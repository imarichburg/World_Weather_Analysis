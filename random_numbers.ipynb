{
 "cells": [
  {
   "cell_type": "code",
   "execution_count": 3,
   "id": "cf904fe1",
   "metadata": {},
   "outputs": [],
   "source": [
    "# Import the random module.\n",
    "import random"
   ]
  },
  {
   "cell_type": "code",
   "execution_count": 5,
   "id": "e7660165",
   "metadata": {},
   "outputs": [
    {
     "data": {
      "text/plain": [
       "-27"
      ]
     },
     "execution_count": 5,
     "metadata": {},
     "output_type": "execute_result"
    }
   ],
   "source": [
    "#randint is short for \"random integer\"  This will select a random integer between -90 and 90\n",
    "#random.randint(–90, 90)\n",
    "random.randint(-90, 90)"
   ]
  },
  {
   "cell_type": "code",
   "execution_count": 6,
   "id": "8e98860a",
   "metadata": {},
   "outputs": [
    {
     "data": {
      "text/plain": [
       "0.5426060337382446"
      ]
     },
     "execution_count": 6,
     "metadata": {},
     "output_type": "execute_result"
    }
   ],
   "source": [
    "#Generate a random single floating-point decimal number between 0 and 1.0\n",
    "random.random()"
   ]
  },
  {
   "cell_type": "code",
   "execution_count": 7,
   "id": "0b1b7040",
   "metadata": {},
   "outputs": [
    {
     "data": {
      "text/plain": [
       "6.4776171325876835"
      ]
     },
     "execution_count": 7,
     "metadata": {},
     "output_type": "execute_result"
    }
   ],
   "source": [
    "#Combine random.randint(-90, 89) and random.random() to generate floating point decimal between -90 and 90\n",
    "random_number = random.randint(-90, 89) + random.random()\n",
    "random_number"
   ]
  },
  {
   "cell_type": "code",
   "execution_count": 9,
   "id": "0d86e06a",
   "metadata": {},
   "outputs": [],
   "source": [
    "## Algorithm that will generate lattitudes between -90 and 89.\n",
    "# Assign the variable x to 1\n",
    "x = 1\n",
    "# Initialize an empty list, lattitudes\n",
    "latitudes = []\n",
    "#Create while loop that generates random lattitude and add it to the list\n",
    "#The while loop condition is checked again and will continue to run as long as x is less than 11\n",
    "while x < 11:\n",
    "    random_lat = random.randint(-90, 89) + random.random()\n",
    "    latitudes.append(random_lat)\n",
    "    #After the random lattitude is added to the list, add one to the variable x\n",
    "    x += 1"
   ]
  },
  {
   "cell_type": "code",
   "execution_count": 10,
   "id": "1651d1a9",
   "metadata": {},
   "outputs": [
    {
     "name": "stdout",
     "output_type": "stream",
     "text": [
      "[-11.038317218179396, 88.15144719572422, -53.66200300082538, -12.191213395766367, 76.45987676937348, 18.60491974844219, -89.90696410973285, 67.27722135441212, 45.28174424399218, -79.98850447358829]\n"
     ]
    }
   ],
   "source": [
    "print(latitudes)"
   ]
  },
  {
   "cell_type": "code",
   "execution_count": 12,
   "id": "9c8f93e8",
   "metadata": {},
   "outputs": [
    {
     "data": {
      "text/plain": [
       "70"
      ]
     },
     "execution_count": 12,
     "metadata": {},
     "output_type": "execute_result"
    }
   ],
   "source": [
    "#Add a step parameter and set equal to an integer, which will generate increments of a given integer value, from the lower and upper limit\n",
    "random.randrange(-90, 90, step=1)"
   ]
  },
  {
   "cell_type": "code",
   "execution_count": 13,
   "id": "5cc3d118",
   "metadata": {},
   "outputs": [
    {
     "data": {
      "text/plain": [
       "-63"
      ]
     },
     "execution_count": 13,
     "metadata": {},
     "output_type": "execute_result"
    }
   ],
   "source": [
    "#Output is a number between -90 and 90 where the difference between each number in the sequence is 3\n",
    "random.randrange(-90, 90, step=3)"
   ]
  },
  {
   "cell_type": "code",
   "execution_count": 14,
   "id": "dc830bb4",
   "metadata": {},
   "outputs": [
    {
     "data": {
      "text/plain": [
       "-77.84384651933948"
      ]
     },
     "execution_count": 14,
     "metadata": {},
     "output_type": "execute_result"
    }
   ],
   "source": [
    "#Generate a floating-point decimal number between -90 and 90\n",
    "random.uniform(-90, 90)"
   ]
  },
  {
   "cell_type": "code",
   "execution_count": 15,
   "id": "e5461b3b",
   "metadata": {},
   "outputs": [],
   "source": [
    "# Import the NumPy module.\n",
    "import numpy as np\n"
   ]
  },
  {
   "cell_type": "code",
   "execution_count": 16,
   "id": "70eea3b2",
   "metadata": {},
   "outputs": [
    {
     "data": {
      "text/plain": [
       "-10.663037772815926"
      ]
     },
     "execution_count": 16,
     "metadata": {},
     "output_type": "execute_result"
    }
   ],
   "source": [
    "# Generate a floating point decimal number between -90.000 and 90.000\n",
    "np.random.uniform(-90.000, 90.000)\n"
   ]
  },
  {
   "cell_type": "code",
   "execution_count": 17,
   "id": "c6d7fa58",
   "metadata": {},
   "outputs": [
    {
     "data": {
      "text/plain": [
       "-81.37169650019958"
      ]
     },
     "execution_count": 17,
     "metadata": {},
     "output_type": "execute_result"
    }
   ],
   "source": [
    "# We can have a lower bound and upper bound when using the uniform function\n",
    "np.random.uniform(low=-90, high=90)"
   ]
  },
  {
   "cell_type": "code",
   "execution_count": 18,
   "id": "6b0820c3",
   "metadata": {},
   "outputs": [
    {
     "data": {
      "text/plain": [
       "array([-40.69731243,   0.09770389, -40.17435964, -53.67943169,\n",
       "        14.98701037,  16.34033008,  73.23289142,  67.99371598,\n",
       "        -0.86602358,  12.61616563, -50.44452903, -23.96051818,\n",
       "        56.05953006,  69.22660327, -75.95269155,   0.41958474,\n",
       "       -53.0508912 ,  69.17540559,   7.40045472,  -2.96550102,\n",
       "       -15.31205155,  38.80120483, -73.30596816, -73.35591762,\n",
       "        88.62377595, -58.76322323, -82.54813834,  73.26298911,\n",
       "        44.24299662,   4.32186776,  57.58474117,  23.85747971,\n",
       "        37.57888199, -20.34504775,  68.68691151,  81.05014812,\n",
       "       -13.59848186,  18.3517339 ,  24.13693868, -36.07610949,\n",
       "        43.43007048,  82.87221463, -60.11802711, -15.43747359,\n",
       "        29.91401979, -67.58489918,  -6.04210403,  69.74416035,\n",
       "        72.50450284, -83.2276445 ])"
      ]
     },
     "execution_count": 18,
     "metadata": {},
     "output_type": "execute_result"
    }
   ],
   "source": [
    "# Generate more than one floating-point decimal number between -90 and 90 using size parameter\n",
    "np.random.uniform(-90.000, 90.000, size=50)"
   ]
  },
  {
   "cell_type": "code",
   "execution_count": 19,
   "id": "adaadf05",
   "metadata": {},
   "outputs": [
    {
     "name": "stdout",
     "output_type": "stream",
     "text": [
      "11.8 µs ± 443 ns per loop (mean ± std. dev. of 7 runs, 100000 loops each)\n"
     ]
    }
   ],
   "source": [
    "# Import timeit.\n",
    "import timeit\n",
    "\n",
    "# Use the %timeit magic command to see what generates 1500 values faster\n",
    "%timeit np.random.uniform(-90.000, 90.000, size=1500)\n"
   ]
  },
  {
   "cell_type": "code",
   "execution_count": 22,
   "id": "90df27c6",
   "metadata": {},
   "outputs": [
    {
     "name": "stdout",
     "output_type": "stream",
     "text": [
      "1.1 ms ± 5 µs per loop (mean ± std. dev. of 7 runs, 1000 loops each)\n"
     ]
    }
   ],
   "source": [
    "def latitudes(size):\n",
    "    latitudes = []\n",
    "    x = 0\n",
    "    while x < (size):\n",
    "        random_lat = random.randint(-90, 90) + random.random()\n",
    "        latitudes.append(random_lat)\n",
    "        x += 1\n",
    "    return latitudes\n",
    "# Call the function with 1500.\n",
    "%timeit latitudes(1500)\n",
    "\n"
   ]
  },
  {
   "cell_type": "code",
   "execution_count": 36,
   "id": "2448fd0f",
   "metadata": {},
   "outputs": [
    {
     "name": "stdout",
     "output_type": "stream",
     "text": [
      "1.08 ms ± 19.8 µs per loop (mean ± std. dev. of 7 runs, 1000 loops each)\n"
     ]
    }
   ],
   "source": [
    "# Refactor code for the while loop with the %timeit magic command and write a for loop that will generate 1500 latitudes\n",
    "def longitude(size):\n",
    "    longitude = []\n",
    "    for x in range(size):\n",
    "        random_long = random.randint(-90, 90) + random.random()\n",
    "        longitude.append(random_long)\n",
    "        #x += 1\n",
    "    #print(longitude)\n",
    "%timeit longitude(1500)"
   ]
  },
  {
   "cell_type": "code",
   "execution_count": null,
   "id": "5de34381",
   "metadata": {},
   "outputs": [],
   "source": [
    "#The While look took 1.1ms and for loop took 1.08 ms\n",
    "# The \"%timeit np.random.uniform\" function is much faster at 11.8 micro seconds"
   ]
  }
 ],
 "metadata": {
  "kernelspec": {
   "display_name": "PythonData",
   "language": "python",
   "name": "pythondata"
  },
  "language_info": {
   "codemirror_mode": {
    "name": "ipython",
    "version": 3
   },
   "file_extension": ".py",
   "mimetype": "text/x-python",
   "name": "python",
   "nbconvert_exporter": "python",
   "pygments_lexer": "ipython3",
   "version": "3.8.12"
  }
 },
 "nbformat": 4,
 "nbformat_minor": 5
}
